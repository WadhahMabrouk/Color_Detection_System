{
  "nbformat": 4,
  "nbformat_minor": 0,
  "metadata": {
    "colab": {
      "provenance": []
    },
    "kernelspec": {
      "name": "python3",
      "display_name": "Python 3"
    },
    "language_info": {
      "name": "python"
    }
  },
  "cells": [
    {
      "cell_type": "code",
      "execution_count": null,
      "metadata": {
        "id": "9qxWZYjtBhbF"
      },
      "outputs": [],
      "source": [
        "import PIL\n",
        "from PIL import Image"
      ]
    },
    {
      "cell_type": "code",
      "source": [
        "from IPython.display import display #to display image\n"
      ],
      "metadata": {
        "id": "NwwwyFBkBmJy"
      },
      "execution_count": null,
      "outputs": []
    },
    {
      "cell_type": "code",
      "source": [
        "import numpy as np\n",
        "import pandas as pd"
      ],
      "metadata": {
        "id": "K_NbKa-LBqUS"
      },
      "execution_count": null,
      "outputs": []
    },
    {
      "cell_type": "code",
      "source": [
        "# Importing Tensorflow\n",
        "import tensorflow as tf\n",
        "\n",
        "from tensorflow import keras\n",
        "from tensorflow.keras import layers\n",
        "\n",
        "print(tf.__version__)\n"
      ],
      "metadata": {
        "colab": {
          "base_uri": "https://localhost:8080/"
        },
        "id": "yOQus6PRBuZo",
        "outputId": "be9c659d-1a09-4b8e-e34b-bff0324efaea"
      },
      "execution_count": null,
      "outputs": [
        {
          "output_type": "stream",
          "name": "stdout",
          "text": [
            "2.12.0\n"
          ]
        }
      ]
    },
    {
      "cell_type": "code",
      "source": [
        "# Generate Random R,G,B value \n",
        "import random\n",
        "def generate_random_rgb(): \n",
        "    return (int(random.uniform(0,255)), int(random.uniform(0,255)), int(random.uniform(0,255)))"
      ],
      "metadata": {
        "id": "fsYZqktLBzEV"
      },
      "execution_count": null,
      "outputs": []
    },
    {
      "cell_type": "code",
      "source": [
        "# Create a new image with the given size\n",
        "def create_image(i, j):\n",
        "  image = Image.new(\"RGB\", (i, j), color=generate_random_rgb())\n",
        "  return image\n",
        "\n",
        "# Get the pixel from the given image\n",
        "def get_pixel(image, i, j):\n",
        "  # Inside image bounds?\n",
        "  width, height = image.size\n",
        "  if i > width or j > height:\n",
        "    return None\n",
        "  # Get Pixel\n",
        "  pixel = image.getpixel((i, j))\n",
        "  return pixel"
      ],
      "metadata": {
        "id": "m5jgOm0OB0uE"
      },
      "execution_count": null,
      "outputs": []
    },
    {
      "cell_type": "code",
      "source": [
        "#Load model from github into colab\n",
        "import os\n",
        "import urllib.request\n",
        "urllib.request.urlretrieve('https://github.com/AjinkyaChavan9/RGB-Color-Classifier-with-Deep-Learning-using-Keras-and-Tensorflow/blob/master/RGB%20Color%20Classifier%20ML%20Model/colormodel_trained_89.h5?raw=true', 'colormodel_trained_89.h5')"
      ],
      "metadata": {
        "colab": {
          "base_uri": "https://localhost:8080/"
        },
        "id": "tBGjN4l3B8Ad",
        "outputId": "8f45668d-ac0e-4b39-9027-0063b5ae7b94"
      },
      "execution_count": null,
      "outputs": [
        {
          "output_type": "execute_result",
          "data": {
            "text/plain": [
              "('colormodel_trained_89.h5', <http.client.HTTPMessage at 0x7f922bca2530>)"
            ]
          },
          "metadata": {},
          "execution_count": 7
        }
      ]
    },
    {
      "cell_type": "code",
      "source": [
        "ls"
      ],
      "metadata": {
        "colab": {
          "base_uri": "https://localhost:8080/"
        },
        "id": "Ff17x_gyB_e3",
        "outputId": "03c07b6e-4813-4256-ed0a-61fe474acf6f"
      },
      "execution_count": null,
      "outputs": [
        {
          "output_type": "stream",
          "name": "stdout",
          "text": [
            "colormodel_trained_89.h5  \u001b[0m\u001b[01;34msample_data\u001b[0m/\n"
          ]
        }
      ]
    },
    {
      "cell_type": "code",
      "source": [
        "# Recreate the exact same model, including its weights and the optimizer\n",
        "model = tf.keras.models.load_model('colormodel_trained_89.h5') \n",
        "\n",
        "# Show the model architecture\n",
        "model.summary()"
      ],
      "metadata": {
        "colab": {
          "base_uri": "https://localhost:8080/"
        },
        "id": "EMkiYJfNCDHN",
        "outputId": "eccdec72-0871-427d-d53f-84a512a8ad8d"
      },
      "execution_count": null,
      "outputs": [
        {
          "output_type": "stream",
          "name": "stdout",
          "text": [
            "Model: \"sequential_4\"\n",
            "_________________________________________________________________\n",
            " Layer (type)                Output Shape              Param #   \n",
            "=================================================================\n",
            " dense_12 (Dense)            (None, 3)                 12        \n",
            "                                                                 \n",
            " dense_13 (Dense)            (None, 24)                96        \n",
            "                                                                 \n",
            " dense_14 (Dense)            (None, 11)                275       \n",
            "                                                                 \n",
            "=================================================================\n",
            "Total params: 383\n",
            "Trainable params: 383\n",
            "Non-trainable params: 0\n",
            "_________________________________________________________________\n"
          ]
        }
      ]
    },
    {
      "cell_type": "code",
      "source": [
        "# Mapping the Color Index with the respective 11 Classes (More Explained in RGB Color Classifier ML Model jupyter notebook)\n",
        "color_dict={\n",
        "    0 : 'Red',\n",
        "    1 : 'Green',\n",
        "    2 : 'Blue',\n",
        "    3 : 'Yellow',\n",
        "    4 : 'Orange',\n",
        "    5 : 'Pink',\n",
        "    6 : 'Purple',\n",
        "    7 : 'Brown',\n",
        "    8 : 'Grey',\n",
        "    9 : 'Black',\n",
        "    10 : 'White'\n",
        "}"
      ],
      "metadata": {
        "id": "ypNh13vFCHnr"
      },
      "execution_count": null,
      "outputs": []
    },
    {
      "cell_type": "code",
      "source": [
        "# User input for number of images to be classified\n",
        "n = int(input('Enter number of images to be classified: '))\n",
        "print() #blank line for spacing\n",
        "#predicting from loaded trained_model\n",
        "for i in range(n) :\n",
        "    img = create_image(235,235) #(235,235) is the (width,heigth) of the image\n",
        "    rgb = get_pixel(img,200,200) # any pixel within the image is given\n",
        "    rgb = np.asarray(rgb) #rgb to numpy array\n",
        "    input_rgb = np.reshape(rgb, (-1,3)) #reshaping as per input to ANN model\n",
        "    display(img)\n",
        "    color_class_confidence = model.predict(input_rgb) # Output of layer is in terms of Confidence of the 11 classes\n",
        "    color_index = np.argmax(color_class_confidence, axis=1) #finding the color_class index from confidence\n",
        "    color = color_dict[int(color_index)]\n",
        "    print('            ' + color)\n",
        "    print()"
      ],
      "metadata": {
        "colab": {
          "base_uri": "https://localhost:8080/",
          "height": 913
        },
        "id": "FRLxpGq6CJWb",
        "outputId": "8da61d50-8b50-4512-c2b3-74877c17a2a0"
      },
      "execution_count": null,
      "outputs": [
        {
          "output_type": "stream",
          "name": "stdout",
          "text": [
            "Enter number of images to be classified: 3\n",
            "\n"
          ]
        },
        {
          "output_type": "display_data",
          "data": {
            "text/plain": [
              "<PIL.Image.Image image mode=RGB size=235x235 at 0x7F922BCA1AE0>"
            ],
            "image/png": "[encoded data removed]"
          },
          "metadata": {}
        },
        {
          "output_type": "stream",
          "name": "stdout",
          "text": [
            "1/1 [==============================] - 0s 178ms/step\n",
            "            Green\n",
            "\n"
          ]
        },
        {
          "output_type": "display_data",
          "data": {
            "text/plain": [
              "<PIL.Image.Image image mode=RGB size=235x235 at 0x7F92289BA5C0>"
            ],
            "image/png": "[encoded data removed]"
          },
          "metadata": {}
        },
        {
          "output_type": "stream",
          "name": "stdout",
          "text": [
            "1/1 [==============================] - 0s 28ms/step\n",
            "            Red\n",
            "\n"
          ]
        },
        {
          "output_type": "display_data",
          "data": {
            "text/plain": [
              "<PIL.Image.Image image mode=RGB size=235x235 at 0x7F922882A6B0>"
            ],
            "image/png": "[encoded data removed]"
          },
          "metadata": {}
        },
        {
          "output_type": "stream",
          "name": "stdout",
          "text": [
            "1/1 [==============================] - 0s 22ms/step\n",
            "            Yellow\n",
            "\n"
          ]
        }
      ]
    }
  ]
}